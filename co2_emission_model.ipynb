# Predicting CO₂ Emissions (SDG 13 Project)

# Step 1: Import libraries
import pandas as pd
from sklearn.model_selection import train_test_split
from sklearn.linear_model import LinearRegression
from sklearn.metrics import mean_absolute_error, r2_score
import matplotlib.pyplot as plt
url = "https://raw.githubusercontent.com/datasets/co2-fossil-global/master/global.csv"
data = pd.read_csv(url)
data.head()

# Step 2: Load dataset - Data is already loaded from URL

# Step 3: Preprocess
data = data.dropna()
X = data[['Gas Fuel', 'Liquid Fuel', 'Solid Fuel', 'Cement', 'Gas Flaring']]
y = data['Total']

# Step 4: Split
X_train, X_test, y_train, y_test = train_test_split(X, y, test_size=0.2, random_state=42)

# Step 5: Train model
model = LinearRegression()
model.fit(X_train, y_train)

# Step 6: Evaluate
y_pred = model.predict(X_test)
print("MAE:", mean_absolute_error(y_test, y_pred))
print("R² Score:", r2_score(y_test, y_pred))

# Step 7: Visualize
plt.scatter(y_test, y_pred)
plt.xlabel("Actual CO2 Emissions")
plt.ylabel("Predicted CO2 Emissions")
plt.title("Actual vs Predicted CO₂ Emissions")
plt.show()
